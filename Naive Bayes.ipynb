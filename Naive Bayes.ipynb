{
 "cells": [
  {
   "cell_type": "code",
   "execution_count": 1,
   "id": "36e48410",
   "metadata": {},
   "outputs": [
    {
     "name": "stdout",
     "output_type": "stream",
     "text": [
      "       1 @justineville ...yeahhh. ) i'm 39 tweets from 1,600! \n",
      "61992  0                    @VerityRobinson how come?!    X   \n",
      "61993  0      Damn lost my voice no morning singing for me    \n",
      "61994  0  it's soooooo cold!!! my poor little fingers ar...   \n",
      "61995  1  @ohmymae oh  i see. make you're MSN email righ...   \n",
      "61996  0  OMFGGGGGGGGGGGG. I FAILED MY RECENT STATS EXAM...   \n"
     ]
    }
   ],
   "source": [
    "import pandas as pd\n",
    "\n",
    "train_path = 'C:/Users/gouth/Downloads/train_150k.txt'\n",
    "test_path = 'C:/Users/gouth/Downloads/test_62k.txt'\n",
    "\n",
    "# Read the text file into a Pandas DataFrame\n",
    "train_df=pd.read_csv(train_path, delimiter='\\t') \n",
    "test_df = pd.read_csv(test_path, delimiter='\\t')  # Assuming it's tab-separated\n",
    "\n",
    "# Now you have your data in a DataFrame (df)\n",
    "print(test_df.tail())  # Display the first few rows of the DataFrame\n"
   ]
  },
  {
   "cell_type": "code",
   "execution_count": 2,
   "id": "fbf95b2a",
   "metadata": {},
   "outputs": [],
   "source": [
    "### Naive BAYES"
   ]
  },
  {
   "cell_type": "code",
   "execution_count": 3,
   "id": "c6c62f79",
   "metadata": {},
   "outputs": [
    {
     "name": "stdout",
     "output_type": "stream",
     "text": [
      "Accuracy of the Naive Bayes Classifier on the test set: 0.7655569534501113\n"
     ]
    }
   ],
   "source": [
    "from sklearn.feature_extraction.text import CountVectorizer\n",
    "from sklearn.model_selection import train_test_split\n",
    "from sklearn.naive_bayes import MultinomialNB\n",
    "\n",
    "# Load the train and test text files\n",
    "train_file_path = 'C:/Users/gouth/Downloads/train_150k.txt'\n",
    "test_file_path = 'C:/Users/gouth/Downloads/test_62k.txt'\n",
    "\n",
    "# Read the train and test files with specified encoding (e.g., 'utf-8')\n",
    "with open(train_file_path, 'r', encoding='utf-8') as file:\n",
    "    train_data = file.readlines()\n",
    "\n",
    "with open(test_file_path, 'r', encoding='utf-8') as file:\n",
    "    test_data = file.readlines()\n",
    "\n",
    "\n",
    "# Separate the text and labels from the train data\n",
    "train_text = [line.split('\\t')[1].strip() for line in train_data]  # Assuming text is in the second column\n",
    "train_labels = [int(line.split('\\t')[0]) for line in train_data]    # Assuming sentiment indicator is in the first column\n",
    "\n",
    "# Separate the text and labels from the test data\n",
    "test_text = [line.split('\\t')[1].strip() for line in test_data]  # Assuming text is in the second column\n",
    "test_labels = [int(line.split('\\t')[0]) for line in test_data]    # Assuming sentiment indicator is in the first column\n",
    "\n",
    "# Vectorize the text data\n",
    "vectorizer = CountVectorizer()\n",
    "X_train = vectorizer.fit_transform(train_text)\n",
    "y_train = train_labels\n",
    "\n",
    "X_test = vectorizer.transform(test_text)\n",
    "y_test = test_labels\n",
    "\n",
    "# Train the Naive Bayes Classifier\n",
    "nb_classifier = MultinomialNB()\n",
    "nb_classifier.fit(X_train, y_train)\n",
    "\n",
    "# Evaluate the model\n",
    "accuracy = nb_classifier.score(X_test, y_test)\n",
    "print(f\"Accuracy of the Naive Bayes Classifier on the test set: {accuracy}\")\n"
   ]
  }
 ],
 "metadata": {
  "kernelspec": {
   "display_name": "Python 3 (ipykernel)",
   "language": "python",
   "name": "python3"
  },
  "language_info": {
   "codemirror_mode": {
    "name": "ipython",
    "version": 3
   },
   "file_extension": ".py",
   "mimetype": "text/x-python",
   "name": "python",
   "nbconvert_exporter": "python",
   "pygments_lexer": "ipython3",
   "version": "3.11.3"
  }
 },
 "nbformat": 4,
 "nbformat_minor": 5
}
